{
 "cells": [
  {
   "cell_type": "markdown",
   "metadata": {},
   "source": [
    "# Logistic regression Math"
   ]
  },
  {
   "cell_type": "markdown",
   "metadata": {},
   "source": [
    "Logistic Regression using SNN \n",
    "- X is the input matrix of nxm, where X<sub>j</sub><sup>i</sup> represents j<sup>th</sup> feature of i<sup>th</sup> sample\n",
    "- W weight vector of shape nx1\n",
    "- b (bias) a scalar number\n",
    "- Z = W<sup>T</sup> . X + b\n",
    "- Z (1xm)\n",
    "- A represent final output of a neuron given by \\begin{aligned} \\sigma(Z) \\end{aligned} (Activation function)\n",
    "- A (1xm)"
   ]
  },
  {
   "cell_type": "markdown",
   "metadata": {},
   "source": [
    "Loss function :\n",
    "Way of measuring accuracy of the output computed by the neaural network\n",
    "\\begin{equation*}\n",
    "L(a,y) = -((y \\log(a) + (1 - y) \\log(1-a)) \n",
    "\\end{equation*}\n",
    "Here a is predicted output and y is the actual output\n"
   ]
  },
  {
   "cell_type": "markdown",
   "metadata": {},
   "source": [
    "Cost function :\n",
    "Loss function is in reference with a single training example\n",
    "Cost function is the performance measure of the network in the function of weights W and bias b \n",
    "\n",
    "\\begin{equation*}\n",
    "J(W,b) = \\frac {-1}{m}  $\\sum_{i=1}^{m} y^{(i)} \\log a^{(i)} + (1 - y^{(i)}) \\log (1 - a^{(i)})\n",
    "\\end{equation*}\n",
    "\n",
    "Cost function is just a average of the loss function over m training examples\n",
    "\n",
    "To minimize cost function, The network has to come up with optimal W and b.\n",
    "W, b values is calculated by gradient decent algorithm\n",
    "\n",
    "Steps:\n",
    "- Derivative of the cost function with respect to the W, b are taken this shows the direction of which the values of the W,b has to be updated\n",
    "\n",
    "\\begin{equation*}\n",
    "\\frac{\\partial J(W,b)}{\\partial W} \\quad represented\\quad as\\quad dw \\\\[1pt]\n",
    "\\frac{\\partial J(W,b)}{\\partial b} \\quad represented\\quad as\\quad db\n",
    "\\end{equation*}\n",
    "- Current values are of W, b are substracted by\n",
    "\\begin{equation*}\n",
    "w_{new}\\quad ->\\quad w - \\alpha dw \\\\[1pt]\n",
    "b_{new}\\quad ->\\quad b - \\alpha db \\\\[1pt]\n",
    "\\alpha \\quad \\textrm{- is the learning rate}\n",
    "\\end{equation*}\n",
    "- Above two steps are executed repeatedly until there is change in the cost "
   ]
  },
  {
   "cell_type": "markdown",
   "metadata": {},
   "source": [
    "Computation Graph:\n",
    "Learning of a neaural network happenes in two iterative steps called forward propagation and back propagation"
   ]
  },
  {
   "cell_type": "markdown",
   "metadata": {},
   "source": [
    "# SNN example"
   ]
  },
  {
   "cell_type": "code",
   "execution_count": 12,
   "metadata": {},
   "outputs": [
    {
     "name": "stdout",
     "output_type": "stream",
     "text": [
      "\n",
      "Shape of the input data : (4, 100) \n",
      "Shape of the actual output data : (1, 100)\n"
     ]
    },
    {
     "ename": "TypeError",
     "evalue": "ufunc 'multiply' did not contain a loop with signature matching types dtype('<U32') dtype('<U32') dtype('<U32')",
     "output_type": "error",
     "traceback": [
      "\u001b[1;31m---------------------------------------------------------------------------\u001b[0m",
      "\u001b[1;31mTypeError\u001b[0m                                 Traceback (most recent call last)",
      "\u001b[1;32m<ipython-input-12-7637f9e5c063>\u001b[0m in \u001b[0;36m<module>\u001b[1;34m\u001b[0m\n\u001b[0;32m     77\u001b[0m \u001b[1;33m\u001b[0m\u001b[0m\n\u001b[0;32m     78\u001b[0m \u001b[1;33m\u001b[0m\u001b[0m\n\u001b[1;32m---> 79\u001b[1;33m \u001b[0mparameters\u001b[0m \u001b[1;33m=\u001b[0m \u001b[0mmodel\u001b[0m\u001b[1;33m(\u001b[0m\u001b[0mXData\u001b[0m\u001b[1;33m,\u001b[0m \u001b[0mY\u001b[0m\u001b[1;33m,\u001b[0m \u001b[1;36m1000\u001b[0m\u001b[1;33m,\u001b[0m \u001b[1;36m0.1\u001b[0m\u001b[1;33m)\u001b[0m\u001b[1;33m\u001b[0m\u001b[1;33m\u001b[0m\u001b[0m\n\u001b[0m",
      "\u001b[1;32m<ipython-input-12-7637f9e5c063>\u001b[0m in \u001b[0;36mmodel\u001b[1;34m(X, Y, numIter, learningRate)\u001b[0m\n\u001b[0;32m     71\u001b[0m         \u001b[0mA\u001b[0m \u001b[1;33m=\u001b[0m \u001b[0mforwardPropagation\u001b[0m\u001b[1;33m(\u001b[0m\u001b[0mX\u001b[0m\u001b[1;33m,\u001b[0m \u001b[0mY\u001b[0m\u001b[1;33m,\u001b[0m \u001b[0mparameters\u001b[0m\u001b[1;33m)\u001b[0m\u001b[1;33m\u001b[0m\u001b[1;33m\u001b[0m\u001b[0m\n\u001b[0;32m     72\u001b[0m         \u001b[1;32mif\u001b[0m\u001b[1;33m(\u001b[0m\u001b[0mi\u001b[0m\u001b[1;33m%\u001b[0m\u001b[1;36m100\u001b[0m \u001b[1;33m==\u001b[0m \u001b[1;36m0\u001b[0m\u001b[1;33m)\u001b[0m\u001b[1;33m:\u001b[0m\u001b[1;33m\u001b[0m\u001b[1;33m\u001b[0m\u001b[0m\n\u001b[1;32m---> 73\u001b[1;33m             \u001b[0mprint\u001b[0m\u001b[1;33m(\u001b[0m\u001b[1;34m\"cost after {} iteration: {}\"\u001b[0m\u001b[1;33m.\u001b[0m\u001b[0mformat\u001b[0m\u001b[1;33m(\u001b[0m\u001b[0mi\u001b[0m\u001b[1;33m,\u001b[0m \u001b[0mcost\u001b[0m\u001b[1;33m(\u001b[0m\u001b[0mA\u001b[0m\u001b[1;33m,\u001b[0m \u001b[0mY\u001b[0m\u001b[1;33m,\u001b[0m \u001b[0mnumSamples\u001b[0m\u001b[1;33m)\u001b[0m\u001b[1;33m)\u001b[0m\u001b[1;33m)\u001b[0m\u001b[1;33m\u001b[0m\u001b[1;33m\u001b[0m\u001b[0m\n\u001b[0m\u001b[0;32m     74\u001b[0m         \u001b[0mdW\u001b[0m\u001b[1;33m,\u001b[0m \u001b[0mdb\u001b[0m \u001b[1;33m=\u001b[0m \u001b[0mbackPropagration\u001b[0m\u001b[1;33m(\u001b[0m\u001b[0mX\u001b[0m\u001b[1;33m,\u001b[0m \u001b[0mY\u001b[0m\u001b[1;33m,\u001b[0m \u001b[0mA\u001b[0m\u001b[1;33m,\u001b[0m \u001b[0mnumSamples\u001b[0m\u001b[1;33m)\u001b[0m\u001b[1;33m\u001b[0m\u001b[1;33m\u001b[0m\u001b[0m\n\u001b[0;32m     75\u001b[0m         \u001b[0mparameters\u001b[0m \u001b[1;33m=\u001b[0m \u001b[0mupdateParameters\u001b[0m\u001b[1;33m(\u001b[0m\u001b[0mparameters\u001b[0m\u001b[1;33m,\u001b[0m \u001b[0mdW\u001b[0m\u001b[1;33m,\u001b[0m \u001b[0mdb\u001b[0m\u001b[1;33m,\u001b[0m \u001b[0mlearningRate\u001b[0m\u001b[1;33m)\u001b[0m\u001b[1;33m\u001b[0m\u001b[1;33m\u001b[0m\u001b[0m\n",
      "\u001b[1;32m<ipython-input-12-7637f9e5c063>\u001b[0m in \u001b[0;36mcost\u001b[1;34m(A, Y, numSamples)\u001b[0m\n\u001b[0;32m     47\u001b[0m \u001b[1;31m# Calculating cost function\u001b[0m\u001b[1;33m\u001b[0m\u001b[1;33m\u001b[0m\u001b[1;33m\u001b[0m\u001b[0m\n\u001b[0;32m     48\u001b[0m \u001b[1;32mdef\u001b[0m \u001b[0mcost\u001b[0m\u001b[1;33m(\u001b[0m\u001b[0mA\u001b[0m\u001b[1;33m,\u001b[0m \u001b[0mY\u001b[0m\u001b[1;33m,\u001b[0m \u001b[0mnumSamples\u001b[0m\u001b[1;33m)\u001b[0m\u001b[1;33m:\u001b[0m\u001b[1;33m\u001b[0m\u001b[1;33m\u001b[0m\u001b[0m\n\u001b[1;32m---> 49\u001b[1;33m     \u001b[1;32mreturn\u001b[0m \u001b[1;33m-\u001b[0m\u001b[1;36m1\u001b[0m\u001b[1;33m/\u001b[0m\u001b[0mnumSamples\u001b[0m \u001b[1;33m*\u001b[0m \u001b[0mnp\u001b[0m\u001b[1;33m.\u001b[0m\u001b[0msum\u001b[0m\u001b[1;33m(\u001b[0m\u001b[0mY\u001b[0m\u001b[1;33m*\u001b[0m\u001b[0mnp\u001b[0m\u001b[1;33m.\u001b[0m\u001b[0mlog\u001b[0m\u001b[1;33m(\u001b[0m\u001b[0mA\u001b[0m\u001b[1;33m)\u001b[0m \u001b[1;33m+\u001b[0m \u001b[1;33m(\u001b[0m\u001b[1;36m1\u001b[0m \u001b[1;33m-\u001b[0m \u001b[0mY\u001b[0m\u001b[1;33m)\u001b[0m\u001b[1;33m*\u001b[0m\u001b[1;33m(\u001b[0m\u001b[0mnp\u001b[0m\u001b[1;33m.\u001b[0m\u001b[0mlog\u001b[0m\u001b[1;33m(\u001b[0m\u001b[1;36m1\u001b[0m\u001b[1;33m-\u001b[0m\u001b[0mA\u001b[0m\u001b[1;33m)\u001b[0m\u001b[1;33m)\u001b[0m\u001b[1;33m)\u001b[0m\u001b[1;33m\u001b[0m\u001b[1;33m\u001b[0m\u001b[0m\n\u001b[0m\u001b[0;32m     50\u001b[0m \u001b[1;33m\u001b[0m\u001b[0m\n\u001b[0;32m     51\u001b[0m \u001b[1;33m\u001b[0m\u001b[0m\n",
      "\u001b[1;31mTypeError\u001b[0m: ufunc 'multiply' did not contain a loop with signature matching types dtype('<U32') dtype('<U32') dtype('<U32')"
     ]
    }
   ],
   "source": [
    "from sklearn import datasets\n",
    "import numpy as np\n",
    "\n",
    "\n",
    "iris = datasets.load_iris()\n",
    "\n",
    "# Extracting first 100 samples to train\n",
    "X = iris.data[:100, :4]\n",
    "\n",
    "# Actual output\n",
    "y = iris.target[:100]\n",
    "\n",
    "# Normalize data (since input data is in the form of length we need to scale data to have normal distribution)\n",
    "def normalize(data):\n",
    "    colMax = np.max(data, axis = 0)\n",
    "    colMin = np.min(data, axis = 0)\n",
    "    return(np.divide(data - colMin, colMax - colMin))\n",
    "\n",
    "XNorm = normalize(X)\n",
    "\n",
    "# Getting the dimensions right\n",
    "XData = XNorm.T\n",
    "yData = y.reshape(1,100)\n",
    "\n",
    "print('\\nShape of the input data :',XData.shape,\n",
    "      '\\nShape of the actual output data :',yData.shape)\n",
    "\n",
    "# Initilize the Weights and bias to some values, since we have 4 features W should be of shape (4,1) and bias (1,1)\n",
    "def initilizeNetwork(numFeatures):\n",
    "    W = np.zeros((numFeatures, 1))\n",
    "    b = 0\n",
    "    parameters = {'W': W, 'b': b}\n",
    "    return parameters\n",
    "\n",
    "# Defining the Activation Function\n",
    "def sigmoid(z):\n",
    "    return 1/(1 + np.exp(-z))\n",
    "\n",
    "# Forward Propagation\n",
    "def forwardPropagation(X, y, parameters):\n",
    "    W = parameters['W']\n",
    "    b = parameters['b']\n",
    "    Z = np.dot(W.T,X) + b\n",
    "    A = sigmoid(Z)\n",
    "    return A\n",
    "\n",
    "# Calculating cost function\n",
    "def cost(A, Y, numSamples):\n",
    "    return -1/numSamples * np.sum(Y*np.log(A) + (1 - Y)*(np.log(1-A)))\n",
    "\n",
    "\n",
    "# Back Propagation\n",
    "def backPropagation(X, Y, A, numSamples):\n",
    "    dZ = A - Y\n",
    "    dw = (np.dot(X,dZ.T))/numSamples\n",
    "    db = (np.sum(dZ))/numSamples\n",
    "    return dw,db\n",
    "\n",
    "# Updating parameters\n",
    "def updateParameters(parameters, dw, db, learningRate):\n",
    "    W = parameters[\"W\"] - (learning_rate * dw)\n",
    "    b = parameters[\"b\"] - (learning_rate * db)\n",
    "    return {\"W\": W, \"b\": b}\n",
    "\n",
    "# Defining model\n",
    "def model(X, Y, numIter, learningRate):\n",
    "    numFeatures = X.shape[0]\n",
    "    numSamples = float(X.shape[1])\n",
    "    parameters = initilizeNetwork(numFeatures)\n",
    "    for i in range(numIter):\n",
    "        A = forwardPropagation(X, Y, parameters)\n",
    "        if(i%100 == 0):\n",
    "            print(\"cost after {} iteration: {}\".format(i, cost(A, Y, numSamples)))\n",
    "        dW, db = backPropagration(X, Y, A, numSamples)\n",
    "        parameters = updateParameters(parameters, dW, db, learningRate)\n",
    "    return parameters\n",
    "\n",
    "\n",
    "parameters = model(XData, Y, 1000, 0.1)\n"
   ]
  },
  {
   "cell_type": "code",
   "execution_count": null,
   "metadata": {},
   "outputs": [],
   "source": []
  }
 ],
 "metadata": {
  "kernelspec": {
   "display_name": "Python [conda env:TensorflowGPU]",
   "language": "python",
   "name": "conda-env-TensorflowGPU-py"
  },
  "language_info": {
   "codemirror_mode": {
    "name": "ipython",
    "version": 3
   },
   "file_extension": ".py",
   "mimetype": "text/x-python",
   "name": "python",
   "nbconvert_exporter": "python",
   "pygments_lexer": "ipython3",
   "version": "3.6.7"
  }
 },
 "nbformat": 4,
 "nbformat_minor": 2
}
