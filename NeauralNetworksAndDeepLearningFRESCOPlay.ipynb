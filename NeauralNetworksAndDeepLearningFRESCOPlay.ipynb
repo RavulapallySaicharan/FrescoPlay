{
 "cells": [
  {
   "cell_type": "markdown",
   "metadata": {},
   "source": [
    "Logistic Regression using SNN \n",
    "- X is the input matrix of nxm, where X<sub>j</sub><sup>i</sup> represents j<sup>th</sup> feature of i<sup>th</sup> sample\n",
    "- W weight vector of shape nx1\n",
    "- b (bias) a scalar number\n",
    "- Z = W<sup>T</sup> . X + b\n",
    "- Z (1xm)\n",
    "- A represent final output of a neuron given by \\begin{equation*} \\sigma(Z) \\end{equation*} (Activation function)\n",
    "- A (1xm)"
   ]
  },
  {
   "cell_type": "code",
   "execution_count": null,
   "metadata": {},
   "outputs": [],
   "source": []
  }
 ],
 "metadata": {
  "kernelspec": {
   "display_name": "Python [conda env:TensorflowGPU]",
   "language": "python",
   "name": "conda-env-TensorflowGPU-py"
  },
  "language_info": {
   "codemirror_mode": {
    "name": "ipython",
    "version": 3
   },
   "file_extension": ".py",
   "mimetype": "text/x-python",
   "name": "python",
   "nbconvert_exporter": "python",
   "pygments_lexer": "ipython3",
   "version": "3.6.7"
  }
 },
 "nbformat": 4,
 "nbformat_minor": 2
}
